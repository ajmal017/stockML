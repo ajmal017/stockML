{
 "cells": [
  {
   "cell_type": "markdown",
   "metadata": {},
   "source": [
    "# OptionStatsViewer"
   ]
  },
  {
   "cell_type": "markdown",
   "metadata": {},
   "source": [
    "This notebook browse the option statistics data that's simplified toa pickles file that's\n",
    "pre-processed by the filter_historical.py / analyze_historical.py\n",
    "It assume the pickles file contains a dataframe that has the historical optionstats of following fields\n",
    "symbol, year, d_index(1 to 31), day_index(1 to 5), month, putiv, calliv, putoi, calloi, putvol, callvol, putoi, calloi\n",
    "It then draw summarized plots that can be shown for each symbol"
   ]
  },
  {
   "cell_type": "code",
   "execution_count": null,
   "metadata": {},
   "outputs": [],
   "source": [
    "import pandas as pd\n",
    "import numpy as np\n",
    "import os as os\n",
    "from datetime import datetime\n",
    "import matplotlib\n",
    "import matplotlib.pyplot as plt\n",
    "import json\n",
    "import tensorflow as tf\n",
    "from keras.models import Sequential\n",
    "from keras.layers import Dense, Dropout, Activation, Flatten, LSTM, TimeDistributed, RepeatVector\n",
    "from keras.layers.normalization import BatchNormalization\n",
    "from keras.optimizers import Adam\n",
    "from keras.callbacks import EarlyStopping, ModelCheckpoint\n"
   ]
  },
  {
   "cell_type": "code",
   "execution_count": null,
   "metadata": {},
   "outputs": [],
   "source": [
    "historical_data_dir = \"./data/historical/pickles\""
   ]
  },
  {
   "cell_type": "code",
   "execution_count": null,
   "metadata": {},
   "outputs": [],
   "source": [
    "def read_data_file(filename):\n",
    "    data_file = historical_data_dir + os.path.sep + filename\n",
    "    if not os.path.exists(data_file):\n",
    "        print(\"Error, historical data does not exist\")\n",
    "\n",
    "    df = pd.read_pickle(data_file)\n",
    "    return df"
   ]
  },
  {
   "cell_type": "markdown",
   "metadata": {},
   "source": [
    "### Some statistics"
   ]
  },
  {
   "cell_type": "code",
   "execution_count": null,
   "metadata": {},
   "outputs": [],
   "source": [
    "def print_df_stats(df):\n",
    "    print(df.shape)\n",
    "    print(df.columns)\n",
    "    print(df.index)\n",
    "    print(np.unique(df.d_index))\n",
    "    print(np.unique(df.day_index))\n",
    "    print(np.unique(df.month))\n",
    "    print(np.unique(df.year))"
   ]
  },
  {
   "cell_type": "code",
   "execution_count": null,
   "metadata": {},
   "outputs": [],
   "source": [
    "df = read_data_file(\"2014_2018.pickle\")\n",
    "print_df_stats(df)"
   ]
  },
  {
   "cell_type": "markdown",
   "metadata": {},
   "source": [
    "### Sample Aapl series"
   ]
  },
  {
   "cell_type": "code",
   "execution_count": null,
   "metadata": {},
   "outputs": [],
   "source": [
    "aapl_series = df[df[\"symbol\"]=='AAPL']\n",
    "\n",
    "print(aapl_series.shape)\n",
    "print(aapl_series.describe(include=np.number))"
   ]
  },
  {
   "cell_type": "code",
   "execution_count": null,
   "metadata": {},
   "outputs": [],
   "source": [
    "fig = plt.figure(figsize=(40,20))"
   ]
  },
  {
   "cell_type": "code",
   "execution_count": null,
   "metadata": {},
   "outputs": [],
   "source": [
    "def groupby_vol(df):\n",
    "    df_symbol = df.groupby(by=['symbol','year', 'month']).agg(calliv_mean = ('calliv', np.mean),  putiv_mean=('putiv', np.mean), callvol_mean = ('callvol',np.mean),putvol_mean=('putvol', np.mean),calloi_mean=('calloi', np.mean),putoi_mean=('putoi', np.mean))\n",
    "    return df_symbol"
   ]
  },
  {
   "cell_type": "code",
   "execution_count": null,
   "metadata": {},
   "outputs": [],
   "source": [
    "df_symbol=groupby_vol(df)\n",
    "df_symbol = df_symbol.reset_index()\n",
    "df_symbol.to_csv(\"2014-2018_optionstats.csv\", index=False)\n",
    "print(df.columns)\n",
    "print(df_symbol.index)\n",
    "print(df_symbol.columns)\n",
    "print(df_symbol.shape)"
   ]
  },
  {
   "cell_type": "markdown",
   "metadata": {},
   "source": [
    "### Filter out symbols that has low volume (lower than average)"
   ]
  },
  {
   "cell_type": "code",
   "execution_count": null,
   "metadata": {},
   "outputs": [],
   "source": [
    "def find_highvol_symbols(df_symbol):\n",
    "    df_symbol[\"symbol\"] = df_symbol.index\n",
    "    callvol_mean_std = [df_symbol.callvol_mean.mean(), df_symbol.callvol_mean.std()]\n",
    "    putvol_mean_std = [df_symbol.putvol_mean.mean(), df_symbol.putvol_mean.std()]\n",
    "    calloi_mean_std = [df_symbol.calloi_mean.mean(), df_symbol.calloi_mean.std()]\n",
    "    putoi_mean_std = [df_symbol.putoi_mean.mean(), df_symbol.putoi_mean.std()]\n",
    "    tolerance_call = callvol_mean_std[0] - 0.05 * callvol_mean_std[1]\n",
    "    tolerance_put = callvol_mean_std[0] - 0.05* putvol_mean_std[1]\n",
    "    df_top_call_vol = df_symbol[df_symbol[\"callvol_mean\"] >= tolerance_call]\n",
    "    df_top_put_vol = df_symbol[df_symbol[\"putvol_mean\"] >= tolerance_put]\n",
    "    union_symbol_list =  list(set(df_top_call_vol.symbol) & set(df_top_put_vol.symbol))\n",
    "    top_option_vol_df = df_symbol[df_symbol[\"symbol\"].isin(union_symbol_list)]\n",
    "    top_option_vol_df.index = range(0, top_option_vol_df.shape[0])\n",
    "    return top_option_vol_df"
   ]
  },
  {
   "cell_type": "code",
   "execution_count": null,
   "metadata": {},
   "outputs": [],
   "source": [
    "top_option_vol_df = find_highvol_symbols(df_symbol)\n",
    "print(top_option_vol_df.shape)\n",
    "top_option_vol_df.to_pickle(historical_data_dir + os.sep + \"high_option_vol_2014_2018.pickle\")"
   ]
  },
  {
   "cell_type": "markdown",
   "metadata": {},
   "source": [
    "### Top Symbols for option volume\n",
    "Now we have the top symbols that has highest option volumns (both call and put)"
   ]
  },
  {
   "cell_type": "code",
   "execution_count": null,
   "metadata": {},
   "outputs": [],
   "source": [
    "pd.set_option(\"max_rows\",100)\n",
    "print(top_option_vol_df)"
   ]
  },
  {
   "cell_type": "markdown",
   "metadata": {},
   "source": [
    "## High stock volume "
   ]
  },
  {
   "cell_type": "code",
   "execution_count": null,
   "metadata": {},
   "outputs": [],
   "source": [
    "def read_stock_stats(filename):\n",
    "    stock_data_file = historical_data_dir + os.path.sep + filename\n",
    "    if not os.path.exists(stock_data_file):\n",
    "        print(\"Error, historical stock data does not exist\")\n",
    "    df_stock = pd.read_pickle(stock_data_file)\n",
    "    return df_stock"
   ]
  },
  {
   "cell_type": "code",
   "execution_count": null,
   "metadata": {},
   "outputs": [],
   "source": [
    "df_stock = read_stock_stats(\"2014_2018.pickle_stock\")\n",
    "print_df_stats(df_stock)"
   ]
  },
  {
   "cell_type": "code",
   "execution_count": null,
   "metadata": {},
   "outputs": [],
   "source": [
    "aapl_series_stock = df_stock[df_stock[\"symbol\"]=='AAPL']\n",
    "\n",
    "print(aapl_series_stock.shape)\n",
    "print(aapl_series_stock.describe(include=np.number))"
   ]
  },
  {
   "cell_type": "code",
   "execution_count": null,
   "metadata": {},
   "outputs": [],
   "source": [
    "def aggr_stock_df(df_stock):\n",
    "    df_symbol_stock = df_stock.groupby(by=['symbol']).agg(mean_close = ('close', np.mean), mean_vol =('volume', np.mean))\n",
    "    df_symbol_stock[\"symbol\"] = df_symbol_stock.index\n",
    "    df_symbol_stock.index = range(0, df_symbol_stock.shape[0])\n",
    "    return df_symbol_stock"
   ]
  },
  {
   "cell_type": "code",
   "execution_count": null,
   "metadata": {},
   "outputs": [],
   "source": [
    "df_symbol_stock = aggr_stock_df(df_stock)\n",
    "print(df_symbol_stock.head())"
   ]
  },
  {
   "cell_type": "code",
   "execution_count": null,
   "metadata": {},
   "outputs": [],
   "source": [
    "def find_high_vol_stock(df_symbol_stock):\n",
    "    vol_mean_std = [df_symbol_stock.mean_vol.mean(), df_symbol_stock.mean_vol.std()]\n",
    "    df_top_stock = df_symbol_stock[df_symbol_stock[\"mean_vol\"] >= vol_mean_std[0] - (0.05 * vol_mean_std[1])]\n",
    "    df_top_stock.index = range(0, df_top_stock.index.size)\n",
    "    return df_top_stock"
   ]
  },
  {
   "cell_type": "code",
   "execution_count": null,
   "metadata": {},
   "outputs": [],
   "source": [
    "print(df_symbol_stock)\n",
    "df_top_stock = find_high_vol_stock(df_symbol_stock)\n",
    "#print(df_top_stock)"
   ]
  },
  {
   "cell_type": "code",
   "execution_count": null,
   "metadata": {},
   "outputs": [],
   "source": [
    "pd.set_option(\"max_rows\",df_top_stock.index.size)\n",
    "print(df_top_stock)\n",
    "print(df_top_stock.index.size)"
   ]
  },
  {
   "cell_type": "code",
   "execution_count": null,
   "metadata": {},
   "outputs": [],
   "source": [
    "print(df_top_stock.symbol)"
   ]
  },
  {
   "cell_type": "code",
   "execution_count": null,
   "metadata": {},
   "outputs": [],
   "source": [
    "df_top_stock.to_pickle(\"./data/high_stock_volume_2014_2018.pickle\")"
   ]
  },
  {
   "cell_type": "code",
   "execution_count": null,
   "metadata": {},
   "outputs": [],
   "source": [
    "def dump_json_file(res, f):\n",
    "    with open(f, 'w') as (tFile):\n",
    "        json.dump(res, tFile)"
   ]
  },
  {
   "cell_type": "code",
   "execution_count": null,
   "metadata": {},
   "outputs": [],
   "source": [
    "high_vol_watch_list = list(set(df_top_stock.symbol) | set(top_option_vol_df))\n",
    "dump_json_file(high_vol_watch_list, \"./data/high_vol_watch_list.json\")"
   ]
  },
  {
   "cell_type": "code",
   "execution_count": null,
   "metadata": {},
   "outputs": [],
   "source": [
    "print(len(high_vol_watch_list))"
   ]
  },
  {
   "cell_type": "markdown",
   "metadata": {},
   "source": [
    "### Harvest the detail level data"
   ]
  },
  {
   "cell_type": "code",
   "execution_count": null,
   "metadata": {},
   "outputs": [],
   "source": [
    "df_2019 = read_data_file(\"2019_highvol.pickle\")\n",
    "print_df_stats(df_2019)"
   ]
  },
  {
   "cell_type": "code",
   "execution_count": null,
   "metadata": {},
   "outputs": [],
   "source": [
    "df_symbol_2019 = groupby_vol(df_2019)\n",
    "top_option_vol_df_2019 = find_highvol_symbols(df_symbol_2019)"
   ]
  },
  {
   "cell_type": "code",
   "execution_count": null,
   "metadata": {},
   "outputs": [],
   "source": [
    "print(top_option_vol_df_2019.symbol)"
   ]
  },
  {
   "cell_type": "code",
   "execution_count": null,
   "metadata": {},
   "outputs": [],
   "source": [
    "detail_stock_df = \"highvol_2019.pickle_detail\""
   ]
  },
  {
   "cell_type": "code",
   "execution_count": null,
   "metadata": {},
   "outputs": [],
   "source": [
    "detail_df = read_data_file(detail_stock_df)"
   ]
  },
  {
   "cell_type": "code",
   "execution_count": null,
   "metadata": {},
   "outputs": [],
   "source": [
    "detail_df.describe()"
   ]
  },
  {
   "cell_type": "code",
   "execution_count": null,
   "metadata": {},
   "outputs": [],
   "source": [
    "detail_df.columns"
   ]
  },
  {
   "cell_type": "code",
   "execution_count": null,
   "metadata": {},
   "outputs": [],
   "source": [
    "def Filter_By_Strikes_Count(df, strikes_count):\n",
    "    df = df.sort_values(\"Strike\", ascending=True)\n",
    "    unique_strikes = np.unique(df.Strike)\n",
    "    median_strike = np.median(unique_strikes)\n",
    "    index_of_median = np.floor(unique_strikes.size/2)\n",
    "    strike_min = min(unique_strikes)\n",
    "    strike_max = max(unique_strikes)\n",
    "    if strikes_count < unique_strikes.size:\n",
    "        strike_min = unique_strikes[np.int32(index_of_median - np.floor(strikes_count/2))]\n",
    "        strike_max = unique_strikes[np.int32(index_of_median +  np.floor(strikes_count/2))] \n",
    "    print(\"strike min/max\", strike_min, strike_max)\n",
    "    return df[(df.Strike >= strike_min) & (df.Strike <= strike_max)]\n",
    "    "
   ]
  },
  {
   "cell_type": "code",
   "execution_count": null,
   "metadata": {},
   "outputs": [],
   "source": [
    "def filter_options_groupby(df, symbol, strikes_count):\n",
    "    print(df.shape)\n",
    "    selected_series =  df[df[\"UnderlyingSymbol\"] == symbol]\n",
    "    mean_vol = selected_series[\"Volume\"].mean()\n",
    "    selected_series = selected_series[selected_series[\"Volume\"] >= mean_vol]\n",
    "    selected_series = Filter_By_Strikes_Count(selected_series, 20)\n",
    "    print(\"current shape after filter by strikes count\", selected_series.shape)\n",
    "    overall_vol_mean = selected_series.Volume.mean()\n",
    "    overall_oi_mean = selected_series.OpenInterest.mean()\n",
    "    print(\"Current series Vol mean, oi mean\", overall_vol_mean, overall_oi_mean)\n",
    "    df_groupby = selected_series.groupby(by=[\"OptionSymbol\", \"Type\", \"Strike\", \"Expiration\"], as_index=True)\n",
    "    pd.set_option(\"max_rows\",selected_series.index.size)\n",
    "    pd.set_option(\"max_columns\",selected_series.columns.size)\n",
    "    df_aggr = df_groupby.agg(vol_mean=('Volume', np.mean), oi_mean=('OpenInterest', np.mean), \\\n",
    "                  iv_mean=('IV', np.mean), delta_mean=('Delta', np.mean), theta_mean=('Theta', np.mean),\\\n",
    "                exp_day_max = ('days_to_expire', np.max), exp_day_min=('days_to_expire', np.min) ,\\\n",
    "                intrinsic_min=('intrinsic_value', np.min), intrinsic_max=('intrinsic_value', np.max) ,\\\n",
    "                time_min=('time_value', np.min), time_max=('time_value', np.max) )\n",
    "    return df_aggr"
   ]
  },
  {
   "cell_type": "code",
   "execution_count": null,
   "metadata": {},
   "outputs": [],
   "source": [
    "df_aggr = filter_options_groupby(detail_df, \"AAPL\", 20)"
   ]
  },
  {
   "cell_type": "code",
   "execution_count": null,
   "metadata": {},
   "outputs": [],
   "source": [
    "print(df_aggr.columns)"
   ]
  },
  {
   "cell_type": "code",
   "execution_count": null,
   "metadata": {},
   "outputs": [],
   "source": [
    "print(df_aggr.shape)\n",
    "print(df_aggr.index)"
   ]
  },
  {
   "cell_type": "code",
   "execution_count": null,
   "metadata": {},
   "outputs": [],
   "source": [
    "t =  df_aggr.reset_index()\n",
    "print(t)"
   ]
  },
  {
   "cell_type": "code",
   "execution_count": null,
   "metadata": {},
   "outputs": [],
   "source": [
    "interested_df = detail_df[detail_df[\"OptionSymbol\"] == \"AAPL200117C00190000\"]"
   ]
  },
  {
   "cell_type": "code",
   "execution_count": null,
   "metadata": {},
   "outputs": [],
   "source": [
    "print(interested_df.shape)\n",
    "print(interested_df.columns)"
   ]
  },
  {
   "cell_type": "code",
   "execution_count": null,
   "metadata": {},
   "outputs": [],
   "source": [
    "print(interested_df.sort_values(\"days_to_expire\", ascending=False))"
   ]
  },
  {
   "cell_type": "code",
   "execution_count": null,
   "metadata": {},
   "outputs": [],
   "source": [
    "print(detail_df[detail_df.OptionSymbol=='AAPL190118C00145000'].sort_values(\"days_to_expire\", ascending=False))"
   ]
  },
  {
   "cell_type": "code",
   "execution_count": null,
   "metadata": {},
   "outputs": [],
   "source": []
  }
 ],
 "metadata": {
  "kernelspec": {
   "display_name": "Python 3",
   "language": "python",
   "name": "python3"
  },
  "language_info": {
   "codemirror_mode": {
    "name": "ipython",
    "version": 3
   },
   "file_extension": ".py",
   "mimetype": "text/x-python",
   "name": "python",
   "nbconvert_exporter": "python",
   "pygments_lexer": "ipython3",
   "version": "3.7.4"
  }
 },
 "nbformat": 4,
 "nbformat_minor": 2
}
