{
 "cells": [
  {
   "cell_type": "code",
   "execution_count": null,
   "metadata": {},
   "outputs": [],
   "source": [
    "\n",
    "### Trading MLoftware to track option market and advise the strategy \n",
    "### according to several features including volume trend, open interest trend, delta\n",
    "### it also back trace option strategy performance via stored data is a s"
   ]
  },
  {
   "cell_type": "markdown",
   "metadata": {},
   "source": [
    "## FINNHUB API USAGE "
   ]
  },
  {
   "cell_type": "code",
   "execution_count": null,
   "metadata": {
    "scrolled": true
   },
   "outputs": [],
   "source": [
    "import requests as requests\n",
    "import pprint\n",
    "import numpy as np\n",
    "import pandas as pd\n",
    "import os as os\n",
    "import matplotlib.pyplot as plt\n",
    "from trade_api.finnhub_api import Finnapi as Finnapi\n",
    "from trade_api.tda_api  import Td as Td\n",
    "from trade_api.ib_api import ibapi as ibapi\n",
    "from datetime import date as date\n",
    "from ipywidgets import widgets\n",
    "from IPython.core.magic import register_cell_magic\n",
    "from IPython.display import HTML, display\n",
    "from sklearn.preprocessing import MinMaxScaler\n",
    "from keras.models import Sequential\n",
    "from keras.layers import Dense\n",
    "from keras.layers import LSTM\n",
    "from keras.layers import Dropout\n",
    "from keras.models import model_from_json\n",
    "from trade_api.tda_api import Td as Td\n",
    "from keras.preprocessing.sequence import TimeseriesGenerator\n",
    "from optionML import getResultByType"
   ]
  },
  {
   "cell_type": "code",
   "execution_count": null,
   "metadata": {},
   "outputs": [],
   "source": [
    "def set_background(color):    \n",
    "    script = (\n",
    "        \"var cell = this.closest('.jp-CodeCell');\"\n",
    "        \"var editor = cell.querySelector('.jp-Editor');\"\n",
    "        \"editor.style.background='{}';\"\n",
    "        \"this.parentNode.removeChild(this)\"\n",
    "    ).format(color)\n",
    "\n",
    "    display(HTML('<img src onerror=\"{}\">'.format(script)))"
   ]
  },
  {
   "cell_type": "code",
   "execution_count": null,
   "metadata": {},
   "outputs": [],
   "source": [
    "f = Finnapi('', 2)\n",
    "f.curr_symbol = 'LYFT'"
   ]
  },
  {
   "cell_type": "code",
   "execution_count": null,
   "metadata": {},
   "outputs": [],
   "source": [
    "response = f.getOptionChain()"
   ]
  },
  {
   "cell_type": "code",
   "execution_count": null,
   "metadata": {},
   "outputs": [],
   "source": [
    "(s_list, oi_list, v_list, p_list, b_list, a_list) = f.filter_options(response, '2020-01-17', 'PUT', 50, 60, 0, 0)"
   ]
  },
  {
   "cell_type": "code",
   "execution_count": null,
   "metadata": {},
   "outputs": [],
   "source": [
    "\n",
    "print(date.today())\n",
    "plt.plot(np.array(s_list), np.array(oi_list), color='r')\n",
    "plt.plot(np.array(s_list), np.array(v_list), color='b')"
   ]
  },
  {
   "cell_type": "code",
   "execution_count": null,
   "metadata": {},
   "outputs": [],
   "source": [
    "(s_list, oi_list, v_list,p_list, b_list, a_list) = f.filter_options(response, '2020-02-21', 'PUT', 30, 55, 100, 0)\n",
    "(s_list_f, oi_list_f, v_list_f,p_list_f, b_list_f, a_list_f) = f.filter_options(response, '2020-01-17', 'PUT', 30, 55, 100, 0)"
   ]
  },
  {
   "cell_type": "code",
   "execution_count": null,
   "metadata": {},
   "outputs": [],
   "source": [
    "\n",
    "fig = plt.figure(figsize=(10,3))\n",
    "ax = fig.add_subplot(221)\n",
    "ax2 = fig.add_subplot(222, sharex=ax, sharey=ax)\n",
    "ax3 = fig.add_subplot(2,2,3)\n",
    "ax4 = fig.add_subplot(2,2,4)\n",
    "print(s_list)\n",
    "ax.plot(np.array(s_list), np.array(oi_list), 'ro', label=\"2020-01-17 open interest\")\n",
    "ax.plot(np.array(s_list), np.array(v_list), 'g^', label= '2020-01-17 volume')\n",
    "ax.legend()\n",
    "ax2.plot(np.array(s_list_f), np.array(oi_list_f), 'ro', label='2019-02-21 open interest')\n",
    "ax2.plot(np.array(s_list_f), np.array(v_list_f), 'g^', label='2019-02-21 volume')\n",
    "ax2.legend()\n",
    "ax3.plot(np.array(s_list), np.array(b_list), 'ro', label='2019-01-17 bid')\n",
    "ax3.plot(np.array(s_list), np.array(a_list), 'g^', label='2019-01-17 ask')\n",
    "ax3.legend()\n",
    "ax4.plot(np.array(s_list_f), np.array(b_list_f), 'ro', label='2019-02-21 bid')\n",
    "ax4.plot(np.array(s_list_f), np.array(a_list_f), 'g^', label='2019-02-21 ask')\n",
    "ax4.legend()"
   ]
  },
  {
   "cell_type": "code",
   "execution_count": null,
   "metadata": {},
   "outputs": [],
   "source": [
    "## TD Ameritrade API USAGE"
   ]
  },
  {
   "cell_type": "code",
   "execution_count": null,
   "metadata": {},
   "outputs": [],
   "source": [
    "td = None"
   ]
  },
  {
   "cell_type": "code",
   "execution_count": null,
   "metadata": {},
   "outputs": [],
   "source": [
    "def getOpts(user, secrete, option_parameters):\n",
    "    td = Td.init(user, secrete)\n",
    "    return(td.get_option_chain(option_parameters))"
   ]
  },
  {
   "cell_type": "code",
   "execution_count": null,
   "metadata": {},
   "outputs": [],
   "source": [
    "def displayTdaOptions(df):\n",
    "    print(df)\n",
    "    exp_date = np.unique(df.expirationDate)\n",
    "    print(\"all_exp_date\", exp_date)\n",
    "    colorcodeV = ['k*-', 'k^-', 'ko-', 'k^-', 'k--', 'k^-', 'ko-', 'k.-']\n",
    "    colorcodeOI = ['g--', 'b-', 'r--', 'g--', 'g.-', 'g^-', 'g.-', 'g^-']\n",
    "    i = 0\n",
    "    j = 0\n",
    "    num_subplots = exp_date.size\n",
    "    ncol = 2\n",
    "    nrow = np.int(np.floor(num_subplots/2))\n",
    "    fig, ax = plt.subplots(nrow,2, figsize=(15,10))\n",
    "    e = exp_date[0]\n",
    "    for i in list(range(0,nrow)):\n",
    "        for j in list(range(0,ncol)):\n",
    "            c1 = colorcodeV[i]\n",
    "            c2 = colorcodeOI[i]\n",
    "            if nrow == 1:\n",
    "                ax[j].plot(df[df['expirationDate'] == e].strikePrice, df[df['expirationDate']==e].totalVolume, c1, label='exp_date' + e + ' vol')\n",
    "                ax[j].plot(df[df['expirationDate'] == e].strikePrice, df[df['expirationDate']==e].openInterest, c2, label='exp_date' + e + ' oi')\n",
    "                ax[j].legend()\n",
    "            else:\n",
    "                ax[i][j].plot(df[df['expirationDate'] == e].strikePrice, df[df['expirationDate']==e].totalVolume, c1, label='exp_date' + e + ' vol')\n",
    "                ax[i][j].plot(df[df['expirationDate'] == e].strikePrice, df[df['expirationDate']==e].openInterest, c2, label='exp_date' + e + ' oi')\n",
    "                ax[i][j].legend()\n",
    "                ax[i][j].legend()\n",
    "            j = j + 1\n",
    "            if j < 2:\n",
    "                e = exp_date[ncol*i + j]\n",
    "            \n",
    "        i = i + 1"
   ]
  },
  {
   "cell_type": "code",
   "execution_count": null,
   "metadata": {},
   "outputs": [],
   "source": [
    "##### from ipywidgets import widgets\n",
    "text_user = widgets.Text(description=\"user\")\n",
    "display(text_user)\n",
    "text_pass = widgets.Password(description='Password:', placeholder='Make it long!')\n",
    "display(text_pass)\n",
    "submit = widgets.Button(description=\"submit\")\n",
    "display(submit)\n",
    "output = widgets.Output()\n",
    "user = ''\n",
    "secrete = ''\n",
    "\n",
    "option_parameters = {\"symbol\": 'LYFT', \"contractType\": 'CALL', \"strikeCount\": 15, \n",
    "                     \"monthIncrement\":2, \"strike\": '',\n",
    "                     \"interested_columns\": ['expirationDate', 'strikePrice','totalVolume', 'openInterest', 'last', 'bid', 'ask', 'highPrice', 'lowPrice'],\n",
    "                     \"monthlyOption\": True}\n",
    "def on_button_clicked(b):\n",
    "    print(\"clicked\")\n",
    "    user = text_user.value\n",
    "    print(\"user\", user)\n",
    "    secrete = text_pass.value\n",
    "    df = getOpts(user, secrete, option_parameters)\n",
    "    displayTdaOptions(df)\n",
    "submit.on_click(on_button_clicked)"
   ]
  },
  {
   "cell_type": "code",
   "execution_count": null,
   "metadata": {},
   "outputs": [],
   "source": [
    "option_parameters2= {\"periodType\": 'year',\"frequencyType\": 'daily', \"period\":1, \"frequency\": 1}"
   ]
  },
  {
   "cell_type": "code",
   "execution_count": null,
   "metadata": {},
   "outputs": [],
   "source": [
    "td = Td.init(user, secrete)\n",
    "df = td.get_price_history('DIS', None, None, option_parameters2)\n"
   ]
  },
  {
   "cell_type": "code",
   "execution_count": null,
   "metadata": {},
   "outputs": [],
   "source": [
    "print(df)"
   ]
  },
  {
   "cell_type": "code",
   "execution_count": null,
   "metadata": {},
   "outputs": [],
   "source": [
    "f = plt.figure(figsize=(10,3))\n",
    "ax = f.add_subplot(221)\n",
    "ax.plot(df[\"datetime\"], df[\"close\"], color='r')\n",
    "ax2 = f.add_subplot(222)\n",
    "ax2.plot(df[\"datetime\"], df[\"volume\"], color='k')"
   ]
  },
  {
   "cell_type": "code",
   "execution_count": null,
   "metadata": {},
   "outputs": [],
   "source": [
    "curQuote = td.get_quotes('DIS')\n",
    "print(curQuote['DIS'][\"lastPrice\"])\n",
    "print(curQuote['DIS'][\"totalVolume\"])\n",
    "print(np.mean(df['volume']), np.std(df['volume']), df['volume']/curQuote['DIS'][\"totalVolume\"])"
   ]
  },
  {
   "cell_type": "code",
   "execution_count": null,
   "metadata": {},
   "outputs": [],
   "source": [
    "df = td.get_price_history('TSLA', None, None, option_parameters2)\n",
    "print(df)"
   ]
  },
  {
   "cell_type": "code",
   "execution_count": null,
   "metadata": {},
   "outputs": [],
   "source": [
    "plt.plot(df[\"datetime\"], df[\"close\"])"
   ]
  },
  {
   "cell_type": "code",
   "execution_count": null,
   "metadata": {},
   "outputs": [],
   "source": [
    "## IBKR API USAGE"
   ]
  },
  {
   "cell_type": "code",
   "execution_count": null,
   "metadata": {},
   "outputs": [],
   "source": [
    "import nest_asyncio\n",
    "nest_asyncio.apply()"
   ]
  },
  {
   "cell_type": "code",
   "execution_count": null,
   "metadata": {
    "scrolled": true
   },
   "outputs": [],
   "source": [
    "myIb = ibapi('127.0.0.1', 4001,847)\n",
    "data = myIb.reqScannerOption()\n",
    "symbols = []\n",
    "for d in data:\n",
    "    #print(d.contractDetails.contract.symbol)\n",
    "    c = d.contractDetails.contract\n",
    "    #genericTickers = \"100,101,221\"\n",
    "    #p = myIb.reqMktPrice(c, genericTickers)\n",
    "    symbols.append(d.contractDetails.contract.symbol)\n",
    "myIb.disconnect()   \n",
    "s_list = list()\n",
    "v_list = list()\n",
    "p_list = list()\n",
    "last_size = list()\n",
    "threshold = 20\n",
    "for s in symbols:\n",
    "    curQuote = td.get_quotes(s)[s]\n",
    "    if (curQuote[\"lastPrice\"] < threshold):\n",
    "        continue\n",
    "    else:\n",
    "        s_list.append(s)\n",
    "        v_list.append(curQuote[\"totalVolume\"])\n",
    "        p_list.append(curQuote[\"lastPrice\"])\n",
    "        last_size.append(curQuote[\"regularMarketLastSize\"])\n",
    "print(len(v_list), len(p_list), len(last_size))\n",
    "hot_scanner_data = pd.DataFrame(data = {\"symbol\": s_list, \"volume\": v_list, \"price\": p_list, \"last_size\": last_size})\n",
    "print(hot_scanner_data)\n"
   ]
  },
  {
   "cell_type": "code",
   "execution_count": null,
   "metadata": {},
   "outputs": [],
   "source": [
    "hot_scanner_data_sorted = hot_scanner_data.sort_values(by = [\"volume\"])\n"
   ]
  },
  {
   "cell_type": "code",
   "execution_count": null,
   "metadata": {},
   "outputs": [],
   "source": [
    "print(hot_scanner_data_sorted)"
   ]
  },
  {
   "cell_type": "code",
   "execution_count": null,
   "metadata": {},
   "outputs": [],
   "source": [
    "import json\n",
    "json.loads(\"{\\\"resolution\\\": \\\"D\\\", \\\"count\\\": 120}\")\n",
    "type(\"{\\\"resolution\\\": \\\"D\\\", \\\"count\\\": 120}\")"
   ]
  },
  {
   "cell_type": "code",
   "execution_count": null,
   "metadata": {},
   "outputs": [],
   "source": [
    "tsla_ph = getResultByType('price_history', '2048', 'TSLA', \"{\\\"resolution\\\": \\\"D\\\", \\\"count\\\": 120}\")"
   ]
  },
  {
   "cell_type": "code",
   "execution_count": null,
   "metadata": {},
   "outputs": [],
   "source": [
    "#print(tsla_ph)\n",
    "closing_vol = tsla_ph.iloc[:, [0,6]]\n",
    "#print(closing_vol)\n",
    "sc = MinMaxScaler(feature_range=(0, 1))\n",
    "transformed_dt = sc.fit_transform(closing_vol)\n",
    "print(transformed_dt.shape)\n",
    "df = pd.DataFrame(transformed_dt)\n",
    "print(df.shape)\n",
    "reshape_df = df.values.reshape(df.shape[0], df.shape[1], 1)\n",
    "X = df.iloc[0:transformed_dt.shape[0]-60,:]\n",
    "Y = df.iloc[transformed_dt.shape[0]-60:, 0:1]\n",
    "print(X)\n",
    "print(Y)\n",
    "print(reshape_df.shape)"
   ]
  },
  {
   "cell_type": "code",
   "execution_count": null,
   "metadata": {},
   "outputs": [],
   "source": [
    "\n",
    "symbol = 'SPY'\n",
    "parameters = ''\n",
    "code = '2048'\n",
    "date_range = \"1252,732\"\n",
    "(train_range, test_range) = date_range.split(',')\n",
    "\n",
    "td = None\n",
    "sc = MinMaxScaler(feature_range=(0, 1))\n",
    "def getTestParameters(range):\n",
    "    return \"{\\\"resolution\\\": \\\"D\\\", \\\"count\\\": 732}\"\n",
    "\n",
    "\n",
    "from predictive_model import getTrainParameters,preprocess_files, model, predict, save, load\n"
   ]
  },
  {
   "cell_type": "code",
   "execution_count": null,
   "metadata": {
    "scrolled": false
   },
   "outputs": [],
   "source": [
    "\n",
    "(X_train, Y_train,X_train_unscaled, Y_train_unscaled)  = preprocess_files(symbol, code, getTrainParameters(train_range))\n",
    "(X_test, Y_test, X_test_unscaled, Y_test_unscaled) = preprocess_files(symbol, code, getTestParameters(test_range))\n"
   ]
  },
  {
   "cell_type": "code",
   "execution_count": null,
   "metadata": {
    "scrolled": true
   },
   "outputs": [],
   "source": [
    "output_filename =  \"models\" + os.sep + symbol + \"_model\"\n",
    "if output_filename is not None and os.path.exists(output_filename+\".json\"):\n",
    "    my_model = load(output_filename + \".json\", output_filename + \".h5\")\n",
    "else:\n",
    "    my_model = model(X_train, Y_train)\n",
    "    save(my_model, output_filename)\n",
    "    \n"
   ]
  },
  {
   "cell_type": "code",
   "execution_count": null,
   "metadata": {},
   "outputs": [],
   "source": [
    "print(X_train.shape, Y_train.shape)\n",
    "print(X_test.shape, Y_test.shape)\n"
   ]
  },
  {
   "cell_type": "code",
   "execution_count": null,
   "metadata": {},
   "outputs": [],
   "source": [
    "predicted = predict(my_model, X_test)"
   ]
  },
  {
   "cell_type": "code",
   "execution_count": null,
   "metadata": {},
   "outputs": [],
   "source": [
    "plt.plot(predicted, color='r')\n",
    "plt.plot(Y_test_unscaled)"
   ]
  },
  {
   "cell_type": "code",
   "execution_count": null,
   "metadata": {},
   "outputs": [],
   "source": []
  },
  {
   "cell_type": "code",
   "execution_count": null,
   "metadata": {},
   "outputs": [],
   "source": []
  }
 ],
 "metadata": {
  "kernelspec": {
   "display_name": "Python 3",
   "language": "python",
   "name": "python3"
  },
  "language_info": {
   "codemirror_mode": {
    "name": "ipython",
    "version": 3
   },
   "file_extension": ".py",
   "mimetype": "text/x-python",
   "name": "python",
   "nbconvert_exporter": "python",
   "pygments_lexer": "ipython3",
   "version": "3.7.4"
  }
 },
 "nbformat": 4,
 "nbformat_minor": 2
}
