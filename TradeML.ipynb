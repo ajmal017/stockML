{
 "cells": [
  {
   "cell_type": "code",
   "execution_count": null,
   "metadata": {},
   "outputs": [],
   "source": [
    "\n",
    "### Trading MLoftware to track option market and advise the strategy \n",
    "### according to several features including volume trend, open interest trend, delta\n",
    "### it also back trace option strategy performance via stored data is a s"
   ]
  },
  {
   "cell_type": "markdown",
   "metadata": {},
   "source": [
    "## FINNHUB API USAGE "
   ]
  },
  {
   "cell_type": "code",
   "execution_count": 31,
   "metadata": {
    "scrolled": true
   },
   "outputs": [],
   "source": [
    "import requests as requests\n",
    "import pprint\n",
    "import numpy as np\n",
    "import pandas as pd\n",
    "import os as os\n",
    "import matplotlib.pyplot as plt\n",
    "from trade_api.finnhub_api import Finnapi as Finnapi\n",
    "from trade_api.tda_api  import Td as Td\n",
    "from trade_api.ib_api import ibapi as ibapi\n",
    "from datetime import date as date\n",
    "from ipywidgets import widgets\n",
    "from IPython.core.magic import register_cell_magic\n",
    "from IPython.display import HTML, display\n",
    "from sklearn.preprocessing import MinMaxScaler\n",
    "from keras.models import Sequential\n",
    "from keras.layers import Dense\n",
    "from keras.layers import LSTM\n",
    "from keras.layers import Dropout\n",
    "from keras.models import model_from_json\n",
    "from trade_api.tda_api import Td as Td\n",
    "from keras.preprocessing.sequence import TimeseriesGenerator\n",
    "from optionML import getResultByType"
   ]
  },
  {
   "cell_type": "code",
   "execution_count": null,
   "metadata": {},
   "outputs": [],
   "source": [
    "def set_background(color):    \n",
    "    script = (\n",
    "        \"var cell = this.closest('.jp-CodeCell');\"\n",
    "        \"var editor = cell.querySelector('.jp-Editor');\"\n",
    "        \"editor.style.background='{}';\"\n",
    "        \"this.parentNode.removeChild(this)\"\n",
    "    ).format(color)\n",
    "\n",
    "    display(HTML('<img src onerror=\"{}\">'.format(script)))"
   ]
  },
  {
   "cell_type": "code",
   "execution_count": null,
   "metadata": {},
   "outputs": [],
   "source": [
    "f = Finnapi('', 2)\n",
    "f.curr_symbol = 'LYFT'"
   ]
  },
  {
   "cell_type": "code",
   "execution_count": null,
   "metadata": {},
   "outputs": [],
   "source": [
    "response = f.getOptionChain()"
   ]
  },
  {
   "cell_type": "code",
   "execution_count": null,
   "metadata": {},
   "outputs": [],
   "source": [
    "(s_list, oi_list, v_list, p_list, b_list, a_list) = f.filter_options(response, '2020-01-17', 'PUT', 50, 60, 0, 0)"
   ]
  },
  {
   "cell_type": "code",
   "execution_count": null,
   "metadata": {},
   "outputs": [],
   "source": [
    "\n",
    "print(date.today())\n",
    "plt.plot(np.array(s_list), np.array(oi_list), color='r')\n",
    "plt.plot(np.array(s_list), np.array(v_list), color='b')"
   ]
  },
  {
   "cell_type": "code",
   "execution_count": null,
   "metadata": {},
   "outputs": [],
   "source": [
    "(s_list, oi_list, v_list,p_list, b_list, a_list) = f.filter_options(response, '2020-02-21', 'PUT', 30, 55, 100, 0)\n",
    "(s_list_f, oi_list_f, v_list_f,p_list_f, b_list_f, a_list_f) = f.filter_options(response, '2020-01-17', 'PUT', 30, 55, 100, 0)"
   ]
  },
  {
   "cell_type": "code",
   "execution_count": null,
   "metadata": {},
   "outputs": [],
   "source": [
    "\n",
    "fig = plt.figure(figsize=(10,3))\n",
    "ax = fig.add_subplot(221)\n",
    "ax2 = fig.add_subplot(222, sharex=ax, sharey=ax)\n",
    "ax3 = fig.add_subplot(2,2,3)\n",
    "ax4 = fig.add_subplot(2,2,4)\n",
    "print(s_list)\n",
    "ax.plot(np.array(s_list), np.array(oi_list), 'ro', label=\"2020-01-17 open interest\")\n",
    "ax.plot(np.array(s_list), np.array(v_list), 'g^', label= '2020-01-17 volume')\n",
    "ax.legend()\n",
    "ax2.plot(np.array(s_list_f), np.array(oi_list_f), 'ro', label='2019-02-21 open interest')\n",
    "ax2.plot(np.array(s_list_f), np.array(v_list_f), 'g^', label='2019-02-21 volume')\n",
    "ax2.legend()\n",
    "ax3.plot(np.array(s_list), np.array(b_list), 'ro', label='2019-01-17 bid')\n",
    "ax3.plot(np.array(s_list), np.array(a_list), 'g^', label='2019-01-17 ask')\n",
    "ax3.legend()\n",
    "ax4.plot(np.array(s_list_f), np.array(b_list_f), 'ro', label='2019-02-21 bid')\n",
    "ax4.plot(np.array(s_list_f), np.array(a_list_f), 'g^', label='2019-02-21 ask')\n",
    "ax4.legend()"
   ]
  },
  {
   "cell_type": "code",
   "execution_count": null,
   "metadata": {},
   "outputs": [],
   "source": [
    "## TD Ameritrade API USAGE"
   ]
  },
  {
   "cell_type": "code",
   "execution_count": null,
   "metadata": {},
   "outputs": [],
   "source": [
    "td = None"
   ]
  },
  {
   "cell_type": "code",
   "execution_count": null,
   "metadata": {},
   "outputs": [],
   "source": [
    "def getOpts(user, secrete, option_parameters):\n",
    "    td = Td.init(user, secrete)\n",
    "    return(td.get_option_chain(option_parameters))"
   ]
  },
  {
   "cell_type": "code",
   "execution_count": null,
   "metadata": {},
   "outputs": [],
   "source": [
    "def displayTdaOptions(df):\n",
    "    print(df)\n",
    "    exp_date = np.unique(df.expirationDate)\n",
    "    print(\"all_exp_date\", exp_date)\n",
    "    colorcodeV = ['k*-', 'k^-', 'ko-', 'k^-', 'k--', 'k^-', 'ko-', 'k.-']\n",
    "    colorcodeOI = ['g--', 'b-', 'r--', 'g--', 'g.-', 'g^-', 'g.-', 'g^-']\n",
    "    i = 0\n",
    "    j = 0\n",
    "    num_subplots = exp_date.size\n",
    "    ncol = 2\n",
    "    nrow = np.int(np.floor(num_subplots/2))\n",
    "    fig, ax = plt.subplots(nrow,2, figsize=(15,10))\n",
    "    e = exp_date[0]\n",
    "    for i in list(range(0,nrow)):\n",
    "        for j in list(range(0,ncol)):\n",
    "            c1 = colorcodeV[i]\n",
    "            c2 = colorcodeOI[i]\n",
    "            if nrow == 1:\n",
    "                ax[j].plot(df[df['expirationDate'] == e].strikePrice, df[df['expirationDate']==e].totalVolume, c1, label='exp_date' + e + ' vol')\n",
    "                ax[j].plot(df[df['expirationDate'] == e].strikePrice, df[df['expirationDate']==e].openInterest, c2, label='exp_date' + e + ' oi')\n",
    "                ax[j].legend()\n",
    "            else:\n",
    "                ax[i][j].plot(df[df['expirationDate'] == e].strikePrice, df[df['expirationDate']==e].totalVolume, c1, label='exp_date' + e + ' vol')\n",
    "                ax[i][j].plot(df[df['expirationDate'] == e].strikePrice, df[df['expirationDate']==e].openInterest, c2, label='exp_date' + e + ' oi')\n",
    "                ax[i][j].legend()\n",
    "                ax[i][j].legend()\n",
    "            j = j + 1\n",
    "            if j < 2:\n",
    "                e = exp_date[ncol*i + j]\n",
    "            \n",
    "        i = i + 1"
   ]
  },
  {
   "cell_type": "code",
   "execution_count": null,
   "metadata": {},
   "outputs": [],
   "source": [
    "##### from ipywidgets import widgets\n",
    "text_user = widgets.Text(description=\"user\")\n",
    "display(text_user)\n",
    "text_pass = widgets.Password(description='Password:', placeholder='Make it long!')\n",
    "display(text_pass)\n",
    "submit = widgets.Button(description=\"submit\")\n",
    "display(submit)\n",
    "output = widgets.Output()\n",
    "user = ''\n",
    "secrete = ''\n",
    "\n",
    "option_parameters = {\"symbol\": 'LYFT', \"contractType\": 'CALL', \"strikeCount\": 15, \n",
    "                     \"monthIncrement\":2, \"strike\": '',\n",
    "                     \"interested_columns\": ['expirationDate', 'strikePrice','totalVolume', 'openInterest', 'last', 'bid', 'ask', 'highPrice', 'lowPrice'],\n",
    "                     \"monthlyOption\": True}\n",
    "def on_button_clicked(b):\n",
    "    print(\"clicked\")\n",
    "    user = text_user.value\n",
    "    print(\"user\", user)\n",
    "    secrete = text_pass.value\n",
    "    df = getOpts(user, secrete, option_parameters)\n",
    "    displayTdaOptions(df)\n",
    "submit.on_click(on_button_clicked)"
   ]
  },
  {
   "cell_type": "code",
   "execution_count": null,
   "metadata": {},
   "outputs": [],
   "source": [
    "option_parameters2= {\"periodType\": 'year',\"frequencyType\": 'daily', \"period\":1, \"frequency\": 1}"
   ]
  },
  {
   "cell_type": "code",
   "execution_count": null,
   "metadata": {},
   "outputs": [],
   "source": [
    "td = Td.init(user, secrete)\n",
    "df = td.get_price_history('DIS', None, None, option_parameters2)\n"
   ]
  },
  {
   "cell_type": "code",
   "execution_count": null,
   "metadata": {},
   "outputs": [],
   "source": [
    "print(df)"
   ]
  },
  {
   "cell_type": "code",
   "execution_count": null,
   "metadata": {},
   "outputs": [],
   "source": [
    "f = plt.figure(figsize=(10,3))\n",
    "ax = f.add_subplot(221)\n",
    "ax.plot(df[\"datetime\"], df[\"close\"], color='r')\n",
    "ax2 = f.add_subplot(222)\n",
    "ax2.plot(df[\"datetime\"], df[\"volume\"], color='k')"
   ]
  },
  {
   "cell_type": "code",
   "execution_count": null,
   "metadata": {},
   "outputs": [],
   "source": [
    "curQuote = td.get_quotes('DIS')\n",
    "print(curQuote['DIS'][\"lastPrice\"])\n",
    "print(curQuote['DIS'][\"totalVolume\"])\n",
    "print(np.mean(df['volume']), np.std(df['volume']), df['volume']/curQuote['DIS'][\"totalVolume\"])"
   ]
  },
  {
   "cell_type": "code",
   "execution_count": null,
   "metadata": {},
   "outputs": [],
   "source": [
    "df = td.get_price_history('TSLA', None, None, option_parameters2)\n",
    "print(df)"
   ]
  },
  {
   "cell_type": "code",
   "execution_count": null,
   "metadata": {},
   "outputs": [],
   "source": [
    "plt.plot(df[\"datetime\"], df[\"close\"])"
   ]
  },
  {
   "cell_type": "code",
   "execution_count": null,
   "metadata": {},
   "outputs": [],
   "source": [
    "## IBKR API USAGE"
   ]
  },
  {
   "cell_type": "code",
   "execution_count": null,
   "metadata": {},
   "outputs": [],
   "source": [
    "import nest_asyncio\n",
    "nest_asyncio.apply()"
   ]
  },
  {
   "cell_type": "code",
   "execution_count": null,
   "metadata": {
    "scrolled": true
   },
   "outputs": [],
   "source": [
    "myIb = ibapi('127.0.0.1', 4001,847)\n",
    "data = myIb.reqScannerOption()\n",
    "symbols = []\n",
    "for d in data:\n",
    "    #print(d.contractDetails.contract.symbol)\n",
    "    c = d.contractDetails.contract\n",
    "    #genericTickers = \"100,101,221\"\n",
    "    #p = myIb.reqMktPrice(c, genericTickers)\n",
    "    symbols.append(d.contractDetails.contract.symbol)\n",
    "myIb.disconnect()   \n",
    "s_list = list()\n",
    "v_list = list()\n",
    "p_list = list()\n",
    "last_size = list()\n",
    "threshold = 20\n",
    "for s in symbols:\n",
    "    curQuote = td.get_quotes(s)[s]\n",
    "    if (curQuote[\"lastPrice\"] < threshold):\n",
    "        continue\n",
    "    else:\n",
    "        s_list.append(s)\n",
    "        v_list.append(curQuote[\"totalVolume\"])\n",
    "        p_list.append(curQuote[\"lastPrice\"])\n",
    "        last_size.append(curQuote[\"regularMarketLastSize\"])\n",
    "print(len(v_list), len(p_list), len(last_size))\n",
    "hot_scanner_data = pd.DataFrame(data = {\"symbol\": s_list, \"volume\": v_list, \"price\": p_list, \"last_size\": last_size})\n",
    "print(hot_scanner_data)\n"
   ]
  },
  {
   "cell_type": "code",
   "execution_count": null,
   "metadata": {},
   "outputs": [],
   "source": [
    "hot_scanner_data_sorted = hot_scanner_data.sort_values(by = [\"volume\"])\n"
   ]
  },
  {
   "cell_type": "code",
   "execution_count": null,
   "metadata": {},
   "outputs": [],
   "source": [
    "print(hot_scanner_data_sorted)"
   ]
  },
  {
   "cell_type": "code",
   "execution_count": null,
   "metadata": {},
   "outputs": [],
   "source": [
    "import json\n",
    "json.loads(\"{\\\"resolution\\\": \\\"D\\\", \\\"count\\\": 120}\")\n",
    "type(\"{\\\"resolution\\\": \\\"D\\\", \\\"count\\\": 120}\")"
   ]
  },
  {
   "cell_type": "code",
   "execution_count": null,
   "metadata": {},
   "outputs": [],
   "source": [
    "tsla_ph = getResultByType('price_history', '2048', 'TSLA', \"{\\\"resolution\\\": \\\"D\\\", \\\"count\\\": 120}\")"
   ]
  },
  {
   "cell_type": "code",
   "execution_count": null,
   "metadata": {},
   "outputs": [],
   "source": [
    "#print(tsla_ph)\n",
    "closing_vol = tsla_ph.iloc[:, [0,6]]\n",
    "#print(closing_vol)\n",
    "sc = MinMaxScaler(feature_range=(0, 1))\n",
    "transformed_dt = sc.fit_transform(closing_vol)\n",
    "print(transformed_dt.shape)\n",
    "df = pd.DataFrame(transformed_dt)\n",
    "print(df.shape)\n",
    "reshape_df = df.values.reshape(df.shape[0], df.shape[1], 1)\n",
    "X = df.iloc[0:transformed_dt.shape[0]-60,:]\n",
    "Y = df.iloc[transformed_dt.shape[0]-60:, 0:1]\n",
    "print(X)\n",
    "print(Y)\n",
    "print(reshape_df.shape)"
   ]
  },
  {
   "cell_type": "code",
   "execution_count": null,
   "metadata": {},
   "outputs": [],
   "source": [
    "\n",
    "symbol = 'SPY'\n",
    "parameters = ''\n",
    "code = '2048'\n",
    "date_range = \"1252,732\"\n",
    "(train_range, test_range) = date_range.split(',')\n",
    "\n",
    "td = None\n",
    "sc = MinMaxScaler(feature_range=(0, 1))\n",
    "def getTestParameters(range):\n",
    "    return \"{\\\"resolution\\\": \\\"D\\\", \\\"count\\\": 732}\"\n",
    "\n",
    "\n",
    "from predictive_model import getTrainParameters,preprocess_files, model, predict, save, load\n"
   ]
  },
  {
   "cell_type": "code",
   "execution_count": null,
   "metadata": {
    "scrolled": false
   },
   "outputs": [],
   "source": [
    "\n",
    "(X_train, Y_train,X_train_unscaled, Y_train_unscaled)  = preprocess_files(symbol, code, getTrainParameters(train_range))\n",
    "(X_test, Y_test, X_test_unscaled, Y_test_unscaled) = preprocess_files(symbol, code, getTestParameters(test_range))\n"
   ]
  },
  {
   "cell_type": "code",
   "execution_count": null,
   "metadata": {
    "scrolled": true
   },
   "outputs": [],
   "source": [
    "output_filename =  \"models\" + os.sep + symbol + \"_model\"\n",
    "if output_filename is not None and os.path.exists(output_filename+\".json\"):\n",
    "    my_model = load(output_filename + \".json\", output_filename + \".h5\")\n",
    "else:\n",
    "    my_model = model(X_train, Y_train)\n",
    "    save(my_model, output_filename)\n",
    "    \n"
   ]
  },
  {
   "cell_type": "code",
   "execution_count": null,
   "metadata": {},
   "outputs": [],
   "source": [
    "print(X_train.shape, Y_train.shape)\n",
    "print(X_test.shape, Y_test.shape)\n"
   ]
  },
  {
   "cell_type": "code",
   "execution_count": null,
   "metadata": {},
   "outputs": [],
   "source": [
    "predicted = predict(my_model, X_test)"
   ]
  },
  {
   "cell_type": "code",
   "execution_count": null,
   "metadata": {},
   "outputs": [],
   "source": [
    "plt.plot(predicted, color='r')\n",
    "plt.plot(Y_test_unscaled)"
   ]
  },
  {
   "cell_type": "code",
   "execution_count": null,
   "metadata": {},
   "outputs": [],
   "source": []
  },
  {
   "cell_type": "code",
   "execution_count": 27,
   "metadata": {},
   "outputs": [],
   "source": [
    "import pandas as pd\n",
    "import numpy as np\n",
    "import numpy.ma as ma\n",
    "from trade_api.tda_api import Td\n",
    "from trade_api.mongo_api import mongo_api\n",
    "import os as os\n",
    "import sys as sys\n",
    "import json\n",
    "import csv\n",
    "import datetime\n",
    "from analyze_historical import OptionStats\n",
    "from optionML import getResultByType\n",
    "import timedelta\n",
    "from util import debug_print, append_df, load_watch_lists\n",
    "from trade_api.db_api import read_one_stock_quote, getStockDesc, get_stock_price_history, recordExists\n",
    "from trade_api.calculate_iv import newton_vol_call,newton_vol_put,newton_vol_call_div,newton_vol_put_div\n",
    "from start import readTable"
   ]
  },
  {
   "cell_type": "code",
   "execution_count": 6,
   "metadata": {},
   "outputs": [],
   "source": [
    "candles = readTable('stockcandles')"
   ]
  },
  {
   "cell_type": "code",
   "execution_count": 88,
   "metadata": {},
   "outputs": [],
   "source": [
    "candles_aapl = candles[candles.symbol == 'AAPL']"
   ]
  },
  {
   "cell_type": "code",
   "execution_count": 89,
   "metadata": {},
   "outputs": [
    {
     "data": {
      "text/plain": [
       "[<matplotlib.lines.Line2D at 0x7efd238510d0>]"
      ]
     },
     "execution_count": 89,
     "metadata": {},
     "output_type": "execute_result"
    },
    {
     "data": {
      "image/png": "[encoded data removed]",
      "text/plain": [
       "<Figure size 432x288 with 1 Axes>"
      ]
     },
     "metadata": {
      "needs_background": "light"
     },
     "output_type": "display_data"
    }
   ],
   "source": [
    "plt.plot(candles_aapl.date, candles_aapl.chg)"
   ]
  },
  {
   "cell_type": "code",
   "execution_count": 90,
   "metadata": {},
   "outputs": [],
   "source": [
    "def update_close_forall(date_range):\n",
    "    m = mongo_api()\n",
    "    d1,d2 = date_range.split(\",\")\n",
    "    date1 = datetime.datetime.strptime(d1, '%Y%m%d');\n",
    "    date2 = datetime.datetime.strptime(d2, '%Y%m%d')\n",
    "    df_all =  m.read_df('stockcandles', False, '*', [], {'$and': [{'date': {'$gte': date1}}, {'date':{'$lte': date2}}]}, {})\n",
    "    df_all = df_all.sort_values([\"symbol\", \"date\"])\n",
    "    df_out = None\n",
    "    for s in set(df_all.symbol):\n",
    "        df_s = df_all.loc[df_all.symbol == s]\n",
    "        df_s = df_s.sort_values(\"date\")\n",
    "        df_s_first_index = df_s.index[0]\n",
    "        df_s[\"prev_c\"] = df_s[\"close\"].shift(periods=1, fill_value=0)\n",
    "        df_s.loc[df_s_first_index, \"prev_c\"] = df_s.loc[df_s_first_index, \"close\"]\n",
    "        df_s[\"chg\"] = df_s[\"close\"] - df_s[\"prev_c\"]\n",
    "        df_out = append_df(df_out, df_s)\n",
    "    return df_out"
   ]
  },
  {
   "cell_type": "code",
   "execution_count": 104,
   "metadata": {},
   "outputs": [],
   "source": [
    "df = update_close_forall(\"20150102,20200131\")\n"
   ]
  },
  {
   "cell_type": "code",
   "execution_count": 113,
   "metadata": {},
   "outputs": [],
   "source": [
    "df.to_pickle('20150102_20200131_candles.pickle')\n"
   ]
  },
  {
   "cell_type": "code",
   "execution_count": null,
   "metadata": {},
   "outputs": [],
   "source": []
  },
  {
   "cell_type": "code",
   "execution_count": 111,
   "metadata": {},
   "outputs": [
    {
     "data": {
      "text/plain": [
       "[<matplotlib.lines.Line2D at 0x7efd1a886150>]"
      ]
     },
     "execution_count": 111,
     "metadata": {},
     "output_type": "execute_result"
    },
    {
     "data": {
      "image/png": "[encoded data removed]",
      "text/plain": [
       "<Figure size 432x288 with 1 Axes>"
      ]
     },
     "metadata": {
      "needs_background": "light"
     },
     "output_type": "display_data"
    }
   ],
   "source": [
    "plt.plot(df_amzn.date, df_amzn.prev_c)"
   ]
  },
  {
   "cell_type": "code",
   "execution_count": 112,
   "metadata": {},
   "outputs": [
    {
     "data": {
      "text/html": [
       "<div>\n",
       "<style scoped>\n",
       "    .dataframe tbody tr th:only-of-type {\n",
       "        vertical-align: middle;\n",
       "    }\n",
       "\n",
       "    .dataframe tbody tr th {\n",
       "        vertical-align: top;\n",
       "    }\n",
       "\n",
       "    .dataframe thead th {\n",
       "        text-align: right;\n",
       "    }\n",
       "</style>\n",
       "<table border=\"1\" class=\"dataframe\">\n",
       "  <thead>\n",
       "    <tr style=\"text-align: right;\">\n",
       "      <th></th>\n",
       "      <th>_id</th>\n",
       "      <th>date</th>\n",
       "      <th>open</th>\n",
       "      <th>high</th>\n",
       "      <th>low</th>\n",
       "      <th>last</th>\n",
       "      <th>volume</th>\n",
       "      <th>implied vol</th>\n",
       "      <th>close</th>\n",
       "      <th>symbol</th>\n",
       "      <th>d_index</th>\n",
       "      <th>month</th>\n",
       "      <th>year</th>\n",
       "      <th>prev_c</th>\n",
       "      <th>chg</th>\n",
       "      <th>ho_spread</th>\n",
       "      <th>cl_spread</th>\n",
       "    </tr>\n",
       "  </thead>\n",
       "  <tbody>\n",
       "    <tr>\n",
       "      <td>11790</td>\n",
       "      <td>5e30d9469e7c895532060397</td>\n",
       "      <td>2018-01-26 21:00:00</td>\n",
       "      <td>114.5</td>\n",
       "      <td>125.86</td>\n",
       "      <td>113.5</td>\n",
       "      <td>NaN</td>\n",
       "      <td>19600478.0</td>\n",
       "      <td>NaN</td>\n",
       "      <td>123.21</td>\n",
       "      <td>ABBV</td>\n",
       "      <td>26</td>\n",
       "      <td>1.0</td>\n",
       "      <td>2018.0</td>\n",
       "      <td>108.3</td>\n",
       "      <td>14.91</td>\n",
       "      <td>11.36</td>\n",
       "      <td>9.71</td>\n",
       "    </tr>\n",
       "  </tbody>\n",
       "</table>\n",
       "</div>"
      ],
      "text/plain": [
       "                            _id                date   open    high    low  \\\n",
       "11790  5e30d9469e7c895532060397 2018-01-26 21:00:00  114.5  125.86  113.5   \n",
       "\n",
       "       last      volume  implied vol   close symbol  d_index  month    year  \\\n",
       "11790   NaN  19600478.0          NaN  123.21   ABBV       26    1.0  2018.0   \n",
       "\n",
       "       prev_c    chg  ho_spread  cl_spread  \n",
       "11790   108.3  14.91      11.36       9.71  "
      ]
     },
     "execution_count": 112,
     "metadata": {},
     "output_type": "execute_result"
    }
   ],
   "source": [
    "df_abbv[df_abbv.chg == max(df_abbv.chg)]"
   ]
  },
  {
   "cell_type": "code",
   "execution_count": null,
   "metadata": {},
   "outputs": [],
   "source": []
  },
  {
   "cell_type": "code",
   "execution_count": null,
   "metadata": {},
   "outputs": [],
   "source": []
  }
 ],
 "metadata": {
  "kernelspec": {
   "display_name": "Python 3",
   "language": "python",
   "name": "python3"
  },
  "language_info": {
   "codemirror_mode": {
    "name": "ipython",
    "version": 3
   },
   "file_extension": ".py",
   "mimetype": "text/x-python",
   "name": "python",
   "nbconvert_exporter": "python",
   "pygments_lexer": "ipython3",
   "version": "3.7.4"
  }
 },
 "nbformat": 4,
 "nbformat_minor": 2
}
